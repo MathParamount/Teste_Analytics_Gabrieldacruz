{
 "cells": [
  {
   "cell_type": "code",
   "execution_count": 2,
   "id": "41e9b027-a41a-471c-a123-2a7a6a1ca2ea",
   "metadata": {},
   "outputs": [],
   "source": [
    "import pandas as pd\n",
    "import random \n",
    "import datetime as dt\n",
    "\n",
    "#Primeiramente criamos o script do dataset com a quantidade variando entre 30 à 400 produtos \n",
    "\n",
    "base_dados = {\n",
    "    'Id': range(1,51),\n",
    "    'Data': [pd.Timestamp('01/01/2023') + pd.Timedelta(days= random.randint(1,365)) for d in range(50)],\n",
    "    'Produto': random.choices(['Celular','Televisão','Notebook','Sofá','Caderno','Cadeira','Mesa','Prateleira','Lapis'], k = 50),\n",
    "    'Categoria': random.choices(['Eletrodoméstico','Acessório','Mobilia'], k = 50),\n",
    "    'Quantidade': random.choices([100,200,50,70,400,30], k=50),\n",
    "    'Preco': [random.randint(100,1000) for p in range(50)],\n",
    "}\n",
    "\n",
    "df = pd.DataFrame(base_dados)"
   ]
  },
  {
   "cell_type": "code",
   "execution_count": 3,
   "id": "444b22ee-0ad6-4d12-ad85-8c416a0f93b7",
   "metadata": {},
   "outputs": [
    {
     "name": "stdout",
     "output_type": "stream",
     "text": [
      "    Id       Data     Produto        Categoria  Quantidade  Preco\n",
      "0    1 2023-04-19     Celular          Mobilia          50    997\n",
      "1    2 2023-09-18        Mesa        Acessório          70    407\n",
      "2    3 2023-07-03        Mesa        Acessório          70    484\n",
      "3    4 2023-10-26   Televisão          Mobilia          70    179\n",
      "4    5 2023-04-13  Prateleira          Mobilia          70    626\n",
      "5    6 2023-01-31  Prateleira        Acessório          50    449\n",
      "6    7 2023-05-12  Prateleira          Mobilia         400    454\n",
      "7    8 2023-10-16     Caderno          Mobilia         100    586\n",
      "8    9 2023-07-29    Notebook  Eletrodoméstico          50    502\n",
      "9   10 2023-12-22     Caderno          Mobilia         200    736\n",
      "10  11 2023-11-27    Notebook          Mobilia         200    641\n",
      "11  12 2023-12-16       Lapis        Acessório          30    447\n",
      "12  13 2023-06-05        Mesa        Acessório          50    358\n",
      "13  14 2023-01-26   Televisão          Mobilia         400    755\n",
      "14  15 2023-01-02  Prateleira  Eletrodoméstico         400    734\n"
     ]
    }
   ],
   "source": [
    "# Visualização da tabela\n",
    "print(df.head(15))"
   ]
  },
  {
   "cell_type": "code",
   "execution_count": 4,
   "id": "7a2bb3b0-6270-403c-9683-ed0f2d675cb4",
   "metadata": {},
   "outputs": [],
   "source": [
    "#criando uma coluna com os dados mensais para analise e ordenando\n",
    "\n",
    "df['mes'] = df['Data'].dt.to_period('M')\n",
    "df = df.sort_values(by = 'mes')\n",
    "\n",
    "#transformando o tipo de period[M] para datetime\n",
    "\n",
    "df['mes'] = df['mes'].dt.to_timestamp()"
   ]
  },
  {
   "cell_type": "code",
   "execution_count": 5,
   "id": "c1484c7b-7a66-419b-b204-33048ec9b868",
   "metadata": {},
   "outputs": [
    {
     "name": "stdout",
     "output_type": "stream",
     "text": [
      "    Id       Data     Produto        Categoria  Quantidade  Preco        mes\n",
      "5    6 2023-01-31  Prateleira        Acessório          50    449 2023-01-01\n",
      "17  18 2023-01-23        Sofá        Acessório         400    572 2023-01-01\n",
      "13  14 2023-01-26   Televisão          Mobilia         400    755 2023-01-01\n",
      "14  15 2023-01-02  Prateleira  Eletrodoméstico         400    734 2023-01-01\n",
      "45  46 2023-02-12   Televisão          Mobilia          30    252 2023-02-01\n",
      "42  43 2023-03-18   Televisão  Eletrodoméstico         100    557 2023-03-01\n",
      "34  35 2023-03-27     Cadeira          Mobilia          70    619 2023-03-01\n",
      "30  31 2023-03-21       Lapis  Eletrodoméstico         400    781 2023-03-01\n",
      "28  29 2023-03-07     Caderno          Mobilia          30    153 2023-03-01\n",
      "26  27 2023-03-29       Lapis  Eletrodoméstico         100    788 2023-03-01\n",
      "0    1 2023-04-19     Celular          Mobilia          50    997 2023-04-01\n",
      "37  38 2023-04-06        Sofá        Acessório          30    798 2023-04-01\n",
      "33  34 2023-04-27     Caderno  Eletrodoméstico         100    691 2023-04-01\n",
      "31  32 2023-04-21     Cadeira        Acessório         200    198 2023-04-01\n",
      "27  28 2023-04-29        Sofá          Mobilia         100    734 2023-04-01\n",
      "\n",
      "\n",
      "O numero de colunas nulas eh:\n",
      "Id            0\n",
      "Data          0\n",
      "Produto       0\n",
      "Categoria     0\n",
      "Quantidade    0\n",
      "Preco         0\n",
      "mes           0\n",
      "dtype: int64\n"
     ]
    }
   ],
   "source": [
    "# Exibição da tabela criada dita como df\n",
    "print(df.head(15))\n",
    "\n",
    "print(\"\\n\")\n",
    "\n",
    "# Quantidade de valores vazios por coluna\n",
    "print(f\"O numero de colunas nulas eh:\\n{df.isnull().sum()}\")"
   ]
  },
  {
   "cell_type": "code",
   "execution_count": 6,
   "id": "a4eccf7b-d33c-4ee4-b85a-78d10a0fcb4d",
   "metadata": {},
   "outputs": [
    {
     "name": "stdout",
     "output_type": "stream",
     "text": [
      "    Id       Data     Produto        Categoria  Quantidade  Preco        mes\n",
      "5    6 2023-01-31  Prateleira          Mobilia          50    449 2023-01-01\n",
      "17  18 2023-01-23        Sofá          Mobilia         400    572 2023-01-01\n",
      "13  14 2023-01-26   Televisão  Eletrodoméstico         400    755 2023-01-01\n",
      "14  15 2023-01-02  Prateleira          Mobilia         400    734 2023-01-01\n",
      "45  46 2023-02-12   Televisão  Eletrodoméstico          30    252 2023-02-01\n",
      "42  43 2023-03-18   Televisão  Eletrodoméstico         100    557 2023-03-01\n",
      "34  35 2023-03-27     Cadeira          Mobilia          70    619 2023-03-01\n",
      "30  31 2023-03-21       Lapis        Acessório         400    781 2023-03-01\n",
      "28  29 2023-03-07     Caderno        Acessório          30    153 2023-03-01\n",
      "26  27 2023-03-29       Lapis        Acessório         100    788 2023-03-01\n"
     ]
    }
   ],
   "source": [
    "# Reajustando a coluna categoria com a seu tipo correto\n",
    "\n",
    "correcao = {\n",
    "'Notebook' : 'Eletrodoméstico',\n",
    "'Televisão' : 'Eletrodoméstico',\n",
    "'Prateleira' : 'Mobilia' ,\n",
    "'Cadeira' : 'Mobilia',\n",
    "'Sofá' : 'Mobilia',\n",
    "'Mesa' : 'Mobilia',\n",
    "'Lapis' : 'Acessório',\n",
    "'Caderno' : 'Acessório',\n",
    "}\n",
    "\n",
    "#Transformando a coluna de categoria em minúsculo e cortando espaços em branco\n",
    "\n",
    "df['Categoria'] = df['Categoria'].str.strip().str.lower()\n",
    "\n",
    "#Procura cada produto pelo nome e troca os elementos da coluna categoria pelo especificado \n",
    "df.loc[df['Produto'] =='Prateleira','Categoria'] = 'Mobilia'\n",
    "df.loc[df['Produto'] =='Cadeira','Categoria'] = 'Mobilia'\n",
    "df.loc[df['Produto'] == 'Sofá','Categoria'] = 'Mobilia'\n",
    "df.loc[df['Produto'] == 'Mesa', 'Categoria'] = 'Mobilia'\n",
    "df.loc[df['Produto'] == 'Lapis','Categoria'] = 'Acessório'\n",
    "df.loc[df['Produto'] == 'Caderno','Categoria'] = 'Acessório'\n",
    "df.loc[df['Produto'] == 'Notebook','Categoria'] = 'Eletrodoméstico'\n",
    "df.loc[df['Produto'] == 'Televisão','Categoria'] = 'Eletrodoméstico'\n",
    "df.loc[df['Produto'] == 'Celular', 'Categoria'] = 'Eletrodoméstico'\n",
    "\n",
    "# Trocar as categorias com os valores do dicionário\n",
    "df['Categoria'] = df['Categoria'].replace(correcao)\n",
    "\n",
    "print(df.head(10))"
   ]
  },
  {
   "cell_type": "code",
   "execution_count": 7,
   "id": "014c30cb-fbd3-4a57-a62e-cede2f0d7ab8",
   "metadata": {},
   "outputs": [
    {
     "name": "stdout",
     "output_type": "stream",
     "text": [
      "Os tipos de dados existentes :\n",
      "Id                     int64\n",
      "Data          datetime64[ns]\n",
      "Produto               object\n",
      "Categoria             object\n",
      "Quantidade             int64\n",
      "Preco                  int64\n",
      "mes           datetime64[ns]\n",
      "dtype: object\n",
      "Quantidade de numeros repetidos na coluna Id eh:\n",
      "Id\n",
      "6     1\n",
      "33    1\n",
      "42    1\n",
      "30    1\n",
      "9     1\n",
      "41    1\n",
      "40    1\n",
      "39    1\n",
      "24    1\n",
      "23    1\n",
      "26    1\n",
      "2     1\n",
      "50    1\n",
      "18    1\n",
      "49    1\n",
      "21    1\n",
      "8     1\n",
      "4     1\n",
      "11    1\n",
      "36    1\n",
      "10    1\n",
      "12    1\n",
      "47    1\n",
      "19    1\n",
      "3     1\n",
      "22    1\n",
      "48    1\n",
      "37    1\n",
      "14    1\n",
      "15    1\n",
      "46    1\n",
      "43    1\n",
      "35    1\n",
      "31    1\n",
      "29    1\n",
      "27    1\n",
      "1     1\n",
      "38    1\n",
      "34    1\n",
      "32    1\n",
      "28    1\n",
      "25    1\n",
      "5     1\n",
      "44    1\n",
      "7     1\n",
      "45    1\n",
      "16    1\n",
      "13    1\n",
      "20    1\n",
      "17    1\n",
      "Name: count, dtype: int64\n"
     ]
    }
   ],
   "source": [
    "#Verificação dos tipos de dados no dataset com a coluna de chaves únicas\n",
    "print(f\"Os tipos de dados existentes :\\n{df.dtypes}\")\n",
    "\n",
    "if df['Id'].dtype != 'int64':\n",
    "    df['Id'] = df['Id'].astype(int)\n",
    "    print(df['Id'].dtype)\n",
    "\n",
    "if df['Data'].dtype != 'datetime64[ns]':\n",
    "    df['Data'] = pd.to_datetime(dataf['Data'])\n",
    "    print(df['Data'].dtype)\n",
    "    \n",
    "# Verificação se a coluna com valores únicos se repete\n",
    "print(f\"Quantidade de numeros repetidos na coluna Id eh:\\n{df['Id'].value_counts()}\")\n",
    "\n",
    "#Ordenação das datas\n",
    "df = df.sort_values(by = 'Data')"
   ]
  },
  {
   "cell_type": "code",
   "execution_count": 8,
   "id": "2fbd8fb5-b2cb-4d7c-8f3a-cef0f9584e27",
   "metadata": {},
   "outputs": [
    {
     "name": "stdout",
     "output_type": "stream",
     "text": [
      "O total de vendas eh: R$ 4515270\n",
      "O produto com a maior venda eh: Notebook\n",
      "A maior venda foi: R$ 347600\n"
     ]
    }
   ],
   "source": [
    "#O total de vendas \n",
    "soma = 0\n",
    "maior = 0\n",
    "lista= []\n",
    "\n",
    "#Um loop que faz o produto-soma de cada linha e insere na lista\n",
    "for indice,iterador in df.iterrows():\n",
    "    soma += iterador['Quantidade']*iterador['Preco']\n",
    "    \n",
    "    algebra = iterador['Quantidade']*iterador['Preco']\n",
    "    lista.append(algebra)\n",
    "    \n",
    "print(\"O total de vendas eh: R$ {}\".format(soma))\n",
    "\n",
    "#Loop de comparação do produto com o maior numero de vendas\n",
    "for i,n in enumerate(lista):\n",
    "    if n > maior:\n",
    "        maior = n\n",
    "        index = i\n",
    "\n",
    "produto_valor_maior = df.iloc[index+1]['Produto']\n",
    "\n",
    "print(f\"O produto com a maior venda eh: {produto_valor_maior}\")\n",
    "print(f\"A maior venda foi: R$ {maior}\")\n"
   ]
  },
  {
   "cell_type": "code",
   "execution_count": null,
   "id": "6ed8e6cf-03a8-4e9f-9a86-3eff1e63e6ae",
   "metadata": {},
   "outputs": [],
   "source": [
    "#Não foi preciso mudar a tabela df para analisar os dados corretamente. Afinal, já foi formatado corretamente, mas fiz a validação dessa afirmação com as etapas realizadas ao longo desse código.\n"
   ]
  },
  {
   "cell_type": "code",
   "execution_count": 9,
   "id": "e2503627-7f94-4901-8dfb-63f2ad7ecd6d",
   "metadata": {},
   "outputs": [],
   "source": [
    "#Salvamento do dataset_limpo\n",
    "df.to_csv(\"data_clean.csv\",index = False)"
   ]
  },
  {
   "cell_type": "code",
   "execution_count": null,
   "id": "4fb6d5bb-e04d-416f-b77d-52dbc00841f1",
   "metadata": {},
   "outputs": [],
   "source": []
  }
 ],
 "metadata": {
  "kernelspec": {
   "display_name": "Python 3 (ipykernel)",
   "language": "python",
   "name": "python3"
  },
  "language_info": {
   "codemirror_mode": {
    "name": "ipython",
    "version": 3
   },
   "file_extension": ".py",
   "mimetype": "text/x-python",
   "name": "python",
   "nbconvert_exporter": "python",
   "pygments_lexer": "ipython3",
   "version": "3.12.4"
  }
 },
 "nbformat": 4,
 "nbformat_minor": 5
}
